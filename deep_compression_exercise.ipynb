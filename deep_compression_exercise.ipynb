{
 "cells": [
  {
   "cell_type": "markdown",
   "metadata": {},
   "source": [
    "# Exercise Week 9: Pruning and Quantization\n",
    "This week, we will explore some of the ideas discussed in Han, Mao, and Dally's Deep Compression.  In particular, we will implement weight pruning with fine tuning, as well as k-means weight quantization.  **Note that we will unfortunately not be doing this in a way that will actually lead to substantial efficiency gains: that would involve the use of sparse matrices which are not currently well-supported in pytorch.** \n",
    "\n",
    "## Training an MNIST classifier\n",
    "For this example, we'll work with a basic multilayer perceptron with a single hidden layer.  We will train it on the MNIST dataset so that it can classify handwritten digits.  As usual we load the data:"
   ]
  },
  {
   "cell_type": "code",
   "execution_count": 1,
   "metadata": {},
   "outputs": [],
   "source": [
    "import torch\n",
    "import torchvision.transforms as transforms\n",
    "import torchvision.datasets as datasets\n",
    "\n",
    "device = torch.device('cuda' if torch.cuda.is_available() else \"cpu\")\n",
    "\n",
    "train_dataset = datasets.MNIST(root='./data', train=True, transform=transforms.ToTensor(), download=True)\n",
    "test_dataset = datasets.MNIST(root='./data', train=False, transform=transforms.ToTensor())\n",
    "\n",
    "batch_size = 300\n",
    "train_loader = torch.utils.data.DataLoader(dataset=train_dataset, batch_size=batch_size, shuffle=True)\n",
    "test_loader = torch.utils.data.DataLoader(dataset=test_dataset, batch_size=batch_size, shuffle=False)"
   ]
  },
  {
   "cell_type": "markdown",
   "metadata": {},
   "source": [
    "Then define a model:"
   ]
  },
  {
   "cell_type": "code",
   "execution_count": 2,
   "metadata": {},
   "outputs": [],
   "source": [
    "class MultilayerPerceptron(torch.nn.Module):\n",
    "    def __init__(self, input_dim, hidden_dim, output_dim,mask=None):\n",
    "        super(MultilayerPerceptron, self).__init__()\n",
    "        if not mask:\n",
    "            self.mask = torch.nn.Parameter(torch.ones(input_dim,hidden_dim),requires_grad=False)\n",
    "        else:\n",
    "            self.mask = torch.nn.Parameter(mask)\n",
    "\n",
    "        self.W_0 = torch.nn.Parameter(1e-3*torch.randn(input_dim,hidden_dim)*self.mask,requires_grad=True)\n",
    "        self.b_0 = torch.nn.Parameter(torch.zeros(hidden_dim),requires_grad=True)\n",
    "\n",
    "        self.W_1 = torch.nn.Parameter(1e-3*torch.randn(hidden_dim,output_dim),requires_grad=True)\n",
    "        self.b_1 = torch.nn.Parameter(torch.zeros(output_dim),requires_grad=True)\n",
    "        \n",
    "    def set_mask(self,mask):\n",
    "        \n",
    "        self.mask.data = mask.data\n",
    "        self.W_0.data = self.mask.data*self.W_0.data\n",
    "\n",
    "    def forward(self, x):\n",
    "        hidden = torch.tanh(x@(self.W_0*self.mask) + self.b_0)\n",
    "        outputs = hidden@self.W_1 + self.b_1\n",
    "        return outputs\n"
   ]
  },
  {
   "cell_type": "markdown",
   "metadata": {},
   "source": [
    "Note that the above code is a little bit different than a standard multilayer perceptron implementation.\n",
    "\n",
    "### Q1: What does this model have the capability of doing that a \"Vanilla\" MLP does not.  Why might we want this functionality for studying pruning?\n",
    "\n",
    "This model contains a mask matrix. This allows the model to mask weights to zero, and in so doing, prune weights out of our model. While this doesn't result in the performance gains of an actual sparse matrix, we can simulate how it would perform without significant extra work.\n",
    "\n",
    "Let's first train this model without utilizing this extra functionality.  You can set the hidden layer size to whatever you'd like when instantiating the model:"
   ]
  },
  {
   "cell_type": "code",
   "execution_count": 3,
   "metadata": {},
   "outputs": [],
   "source": [
    "n_epochs = 10\n",
    "\n",
    "input_dim = 784\n",
    "hidden_dim = 64\n",
    "output_dim = 10\n",
    "\n",
    "model = MultilayerPerceptron(input_dim,hidden_dim,output_dim)\n",
    "model = model.to(device)\n",
    "\n",
    "criterion = torch.nn.CrossEntropyLoss() # computes softmax and then the cross entropy\n",
    "lr_rate = 0.001\n",
    "optimizer = torch.optim.Adam(model.parameters(), lr=lr_rate, weight_decay=1e-3)"
   ]
  },
  {
   "cell_type": "markdown",
   "metadata": {},
   "source": [
    "And then training proceeds as normal."
   ]
  },
  {
   "cell_type": "code",
   "execution_count": 4,
   "metadata": {},
   "outputs": [
    {
     "name": "stdout",
     "output_type": "stream",
     "text": [
      "Iteration: 0. Loss: 0.48972636461257935. Accuracy: 90.\n",
      "Iteration: 1. Loss: 0.28965383768081665. Accuracy: 92.\n",
      "Iteration: 2. Loss: 0.2548693120479584. Accuracy: 93.\n",
      "Iteration: 3. Loss: 0.2209872454404831. Accuracy: 94.\n",
      "Iteration: 4. Loss: 0.17559462785720825. Accuracy: 94.\n",
      "Iteration: 5. Loss: 0.24989542365074158. Accuracy: 94.\n",
      "Iteration: 6. Loss: 0.18267865478992462. Accuracy: 95.\n",
      "Iteration: 7. Loss: 0.12641584873199463. Accuracy: 95.\n",
      "Iteration: 8. Loss: 0.1499858796596527. Accuracy: 95.\n",
      "Iteration: 9. Loss: 0.15948820114135742. Accuracy: 95.\n"
     ]
    }
   ],
   "source": [
    "iter = 0\n",
    "for epoch in range(n_epochs):\n",
    "    for i, (images, labels) in enumerate(train_loader):\n",
    "        images = images.view(-1, 28 * 28).to(device)\n",
    "        labels = labels.to(device)\n",
    "\n",
    "        optimizer.zero_grad()\n",
    "        outputs = model(images)\n",
    "        loss = criterion(outputs, labels)\n",
    "        loss.backward()\n",
    "        optimizer.step()\n",
    "\n",
    "    # calculate Accuracy\n",
    "    correct = 0\n",
    "    total = 0\n",
    "    for images, labels in test_loader:\n",
    "        images = images.view(-1, 28*28).to(device)\n",
    "        labels = labels.to(device)\n",
    "        outputs = model(images)\n",
    "        _, predicted = torch.max(outputs.data, 1)\n",
    "        total+= labels.size(0)\n",
    "                # for gpu, bring the predicted and labels back to cpu fro python operations to work\n",
    "        correct+= (predicted == labels).sum()\n",
    "    accuracy = 100 * correct/total\n",
    "    print(\"Iteration: {}. Loss: {}. Accuracy: {}.\".format(epoch, loss.item(), accuracy))\n",
    "torch.save(model.state_dict(),'mnist_pretrained.h5')\n"
   ]
  },
  {
   "cell_type": "markdown",
   "metadata": {},
   "source": [
    "## Pruning\n",
    "\n",
    "Certainly not a state of the art model, but also not a terrible one.  Because we're hoping to do some weight pruning, let's inspect some of the weights directly (recall that we can act like they're images)"
   ]
  },
  {
   "cell_type": "code",
   "execution_count": 5,
   "metadata": {},
   "outputs": [
    {
     "data": {
      "image/png": "[encoded data removed]",
      "text/plain": [
       "<Figure size 432x288 with 1 Axes>"
      ]
     },
     "metadata": {
      "needs_background": "light"
     },
     "output_type": "display_data"
    }
   ],
   "source": [
    "import matplotlib.pyplot as plt\n",
    "W_0 = model.W_0.detach().cpu().numpy()\n",
    "plt.imshow(W_0[:,1].reshape((28,28)))\n",
    "plt.show()"
   ]
  },
  {
   "cell_type": "markdown",
   "metadata": {},
   "source": [
    "### Q2: Based on the above image, what weights might reasonably be pruned (i.e. explicitly forced to be zero)?\n",
    "\n",
    "Weights near the edges of matrix seldom affect classification, so they can likely be pruned.\n",
    "\n",
    "### Q3: Implement some means of establishing a threshold for the (absolute value of the) weights, below which they are set to zero.  Using this method, create a mask array.     "
   ]
  },
  {
   "cell_type": "code",
   "execution_count": 9,
   "metadata": {},
   "outputs": [
    {
     "name": "stdout",
     "output_type": "stream",
     "text": [
      "num non zero:  2334\n"
     ]
    }
   ],
   "source": [
    "import numpy as np\n",
    "\n",
    "pruneThreshold = .1\n",
    "\n",
    "new_maskAsNp = (np.where(\n",
    "    abs(W_0) < pruneThreshold, \n",
    "    0, \n",
    "    1))\n",
    "\n",
    "new_mask = torch.tensor(new_maskAsNp).to(device)\n",
    "print(\"num non zero: \", np.count_nonzero(new_maskAsNp))"
   ]
  },
  {
   "cell_type": "markdown",
   "metadata": {},
   "source": [
    "Now that we have a mask that explicitly establishes a sparsity pattern for our model, let's update our model with this mask:"
   ]
  },
  {
   "cell_type": "code",
   "execution_count": 10,
   "metadata": {},
   "outputs": [],
   "source": [
    "model.set_mask(torch.nn.Parameter(new_mask,requires_grad=False))"
   ]
  },
  {
   "cell_type": "markdown",
   "metadata": {},
   "source": [
    "Now, we have explicitly set some entries in one of the the weight matrices to zero, and ensured via the mask, that they will not be updated by gradient descent.  Fine tune the model: "
   ]
  },
  {
   "cell_type": "code",
   "execution_count": 11,
   "metadata": {},
   "outputs": [
    {
     "name": "stdout",
     "output_type": "stream",
     "text": [
      "Iteration: 0. Loss: 0.26527586579322815. Accuracy: 92.\n",
      "Iteration: 1. Loss: 0.24725675582885742. Accuracy: 93.\n",
      "Iteration: 2. Loss: 0.2025633454322815. Accuracy: 94.\n",
      "Iteration: 3. Loss: 0.2610049545764923. Accuracy: 94.\n",
      "Iteration: 4. Loss: 0.1958099901676178. Accuracy: 94.\n",
      "Iteration: 5. Loss: 0.21370546519756317. Accuracy: 94.\n",
      "Iteration: 6. Loss: 0.17249669134616852. Accuracy: 94.\n",
      "Iteration: 7. Loss: 0.1719496250152588. Accuracy: 94.\n",
      "Iteration: 8. Loss: 0.17558760941028595. Accuracy: 94.\n",
      "Iteration: 9. Loss: 0.20473022758960724. Accuracy: 95.\n"
     ]
    }
   ],
   "source": [
    "iter = 0\n",
    "for epoch in range(n_epochs):\n",
    "    for i, (images, labels) in enumerate(train_loader):\n",
    "        images = images.view(-1, 28 * 28).to(device)\n",
    "        labels = labels.to(device)\n",
    "\n",
    "        optimizer.zero_grad()\n",
    "        outputs = model(images)\n",
    "        loss = criterion(outputs, labels)\n",
    "        loss.backward()\n",
    "        optimizer.step()\n",
    "\n",
    "    # calculate Accuracy\n",
    "    correct = 0\n",
    "    total = 0\n",
    "    for images, labels in test_loader:\n",
    "        images = images.view(-1, 28*28).to(device)\n",
    "        labels = labels.to(device)\n",
    "        outputs = model(images)\n",
    "        _, predicted = torch.max(outputs.data, 1)\n",
    "        total+= labels.size(0)\n",
    "                # for gpu, bring the predicted and labels back to cpu fro python operations to work\n",
    "        correct+= (predicted == labels).sum()\n",
    "    accuracy = 100 * correct/total\n",
    "    print(\"Iteration: {}. Loss: {}. Accuracy: {}.\".format(epoch, loss.item(), accuracy))\n",
    "torch.save(model.state_dict(),'mnist_pruned.h5')"
   ]
  },
  {
   "cell_type": "markdown",
   "metadata": {},
   "source": [
    "### Q4: How much accuracy did you lose by pruning the model?  How much \"compression\" did you achieve (here defined as total entries in W_0 divided by number of non-zero entries)?  \n",
    "\n",
    "When the pruning threshold was set to .1, accuracy was unaffected. When the threshold was .6, it starterd at 81% accuracy, and only climbed to 86%.\n",
    "\n",
    "Upon many different training runs, no single threshold worked well. On some trainings, a threshold of 0.2 gave results that were nearly identical to no pruning at all. On the most recent, 0.2 saw a ~15% reduction in accuracy, but a threshold of 0.1 resulted in even better accuracy (95%) than any of the previous iterations.\n",
    "\n",
    "To try to optimize compression while keeping accuracy high, I found that a threshold of 0.2 was as far as I could push it without lost performance\n",
    "\n",
    "With my first run, 297 non-zero entries in W_0, and 50,176 total entries, this results in a compression of 168X.\n",
    "\n",
    "With my last run with a threshold of 0.1, the matrix contained 2334 non-zero entries, for a compression of 21x. This was significantly less compression, but had around 5% more accuracy than the previous iteration's best.\n",
    "\n",
    "### Q5: Explore a few different thresholds: approximately how many weights can you prune before accuracy starts to degrade?\n",
    "\n",
    "I start seeing significant performance degredation around threshold= 0.4, with 185 non-zero elements, or a compression ratio of 271x.Before that, performance generally stayed reasonable, with significant variance depending on the training iteration."
   ]
  },
  {
   "cell_type": "code",
   "execution_count": 12,
   "metadata": {},
   "outputs": [
    {
     "data": {
      "image/png": "[encoded data removed]",
      "text/plain": [
       "<Figure size 432x288 with 1 Axes>"
      ]
     },
     "metadata": {
      "needs_background": "light"
     },
     "output_type": "display_data"
    }
   ],
   "source": [
    "W_0 = model.W_0.detach().cpu().numpy()\n",
    "plt.imshow(W_0[:,1].reshape((28,28)))\n",
    "plt.show()"
   ]
  },
  {
   "cell_type": "markdown",
   "metadata": {},
   "source": [
    "## Quantization\n",
    "\n",
    "Now that we have a pruned model that appears to be performing well, let's see if we can make it even smaller by quantization.  To do this, we'll need a slightly different neural network, one that corresponds to Figure 3 from the paper.  Instead of having a matrix of float values, we'll have a matrix of integer labels (here called \"labels\") that correspond to entries in a (hopefully) small codebook of centroids (here called \"centroids\").  The way that I've coded it, there's still a mask that enforces our desired sparsity pattern."
   ]
  },
  {
   "cell_type": "code",
   "execution_count": 64,
   "metadata": {},
   "outputs": [],
   "source": [
    "class MultilayerPerceptronQuantized(torch.nn.Module):\n",
    "    def __init__(self, input_dim, output_dim, hidden_dim,mask,labels,centroids):\n",
    "        super(MultilayerPerceptronQuantized, self).__init__()\n",
    "        self.mask = torch.nn.Parameter(mask,requires_grad=False)\n",
    "        self.labels = torch.nn.Parameter(labels,requires_grad=False)\n",
    "        self.centroids = torch.nn.Parameter(centroids,requires_grad=True)\n",
    "\n",
    "        self.b_0 = torch.nn.Parameter(torch.zeros(hidden_dim))\n",
    "\n",
    "        self.W_1 = torch.nn.Parameter(1e-3*torch.randn(hidden_dim,output_dim))\n",
    "        self.b_1 = torch.nn.Parameter(torch.zeros(output_dim))\n",
    "\n",
    "    def forward(self, x):\n",
    "        W_0 = self.mask*self.centroids[self.labels]\n",
    "        hidden = torch.tanh(x@W_0 + self.b_0)\n",
    "        outputs = hidden@self.W_1 + self.b_1\n",
    "        return outputs"
   ]
  },
  {
   "cell_type": "markdown",
   "metadata": {},
   "source": [
    "Notice what is happening in the forward method: W_0 is being reconstructed by using a matrix (self.labels) to index into a vector (self.centroids).  The beauty of automatic differentiation allows backpropogation through this sort of weird indexing operation, and thus gives us gradients of the objective function with respect to the centroid values!\n",
    "\n",
    "### Q6: However, before we are able to use this AD magic, we need to specify the static label matrix (and an initial guess for centroids).  Use the k-means algorithm (or something else if you prefer) figure out the label matrix and centroid vectors.  PROTIP1: I used scikit-learns implementation of k-means.  PROTIP2: only cluster the non-zero entries"
   ]
  },
  {
   "cell_type": "code",
   "execution_count": 83,
   "metadata": {},
   "outputs": [],
   "source": [
    "from sklearn.cluster import KMeans\n",
    "\n",
    "numKmeansClusters = 2\n",
    "\n",
    "# convert weight and mask matrices into numpy arrays\n",
    "W_0 = model.W_0.detach().cpu().numpy()\n",
    "mask = model.mask.detach().cpu().numpy()\n",
    "\n",
    "# Figure out the indices of non-zero entries \n",
    "inds = np.where(mask!=0)\n",
    "# Figure out the values of non-zero entries\n",
    "vals = W_0[inds]\n",
    "\n",
    "\n",
    "### TODO: perform clustering on vals\n",
    "kmeans = KMeans(n_clusters=numKmeansClusters, random_state=0)\n",
    "kmeansResult = kmeans.fit(vals.reshape(-1,1)) #reshape because the fit method requires it\n",
    "#print(kmeansResult.labels_)\n",
    "#print(kmeansResult.cluster_centers_)\n",
    "\n",
    "### TODO: turn the label matrix and centroids into a torch tensor\n",
    "W_0_shape = W_0.shape\n",
    "labels = torch.tensor(kmeansResult.predict(W_0.reshape(-1,1)), dtype=torch.long, device=device).reshape(W_0_shape)\n",
    "centroids = torch.squeeze(torch.tensor(kmeansResult.cluster_centers_, device=device))"
   ]
  },
  {
   "cell_type": "markdown",
   "metadata": {},
   "source": [
    "Now, we can instantiate our quantized model and import the appropriate pre-trained weights for the other network layers.  "
   ]
  },
  {
   "cell_type": "code",
   "execution_count": 84,
   "metadata": {},
   "outputs": [],
   "source": [
    "# Instantiate quantized model\n",
    "model_q = MultilayerPerceptronQuantized(input_dim, output_dim, hidden_dim, new_mask, labels, centroids)\n",
    "model_q = model_q.to(device)\n",
    "\n",
    "# Copy pre-trained weights from unquantized model for non-quantized layers\n",
    "model_q.b_0.data = model.b_0.data\n",
    "model_q.W_1.data = model.W_1.data\n",
    "model_q.b_1.data = model.b_1.data"
   ]
  },
  {
   "cell_type": "markdown",
   "metadata": {},
   "source": [
    "Finally, we can fine tune the quantized model.  We'll adjust not only the centroids, but also the weights in the other layers."
   ]
  },
  {
   "cell_type": "code",
   "execution_count": 85,
   "metadata": {
    "scrolled": true
   },
   "outputs": [
    {
     "name": "stdout",
     "output_type": "stream",
     "text": [
      "Iteration: 0. Loss: 0.18444129824638367. Accuracy: 93.\n",
      "Iteration: 1. Loss: 0.2505455017089844. Accuracy: 93.\n",
      "Iteration: 2. Loss: 0.23402710258960724. Accuracy: 93.\n",
      "Iteration: 3. Loss: 0.19496241211891174. Accuracy: 93.\n",
      "Iteration: 4. Loss: 0.13807952404022217. Accuracy: 93.\n",
      "Iteration: 5. Loss: 0.1673203408718109. Accuracy: 93.\n",
      "Iteration: 6. Loss: 0.2616290748119354. Accuracy: 94.\n",
      "Iteration: 7. Loss: 0.24818234145641327. Accuracy: 93.\n",
      "Iteration: 8. Loss: 0.17274461686611176. Accuracy: 94.\n",
      "Iteration: 9. Loss: 0.25970029830932617. Accuracy: 94.\n"
     ]
    }
   ],
   "source": [
    "optimizer = torch.optim.Adam(model_q.parameters(), lr=lr_rate, weight_decay=1e-3)\n",
    "iter = 0\n",
    "for epoch in range(n_epochs):\n",
    "    for i, (images, labels) in enumerate(train_loader):\n",
    "        images = images.view(-1, 28 * 28).to(device)\n",
    "        labels = labels.to(device)\n",
    "\n",
    "        optimizer.zero_grad()\n",
    "        outputs = model_q(images)\n",
    "        loss = criterion(outputs, labels)\n",
    "        loss.backward()\n",
    "        optimizer.step()\n",
    "\n",
    "    # calculate Accuracy\n",
    "    correct = 0\n",
    "    total = 0\n",
    "    for images, labels in test_loader:\n",
    "        images = images.view(-1, 28*28).to(device)\n",
    "        labels = labels.to(device)\n",
    "        outputs = model_q(images)\n",
    "        _, predicted = torch.max(outputs.data, 1)\n",
    "        total+= labels.size(0)\n",
    "                # for gpu, bring the predicted and labels back to cpu fro python operations to work\n",
    "        correct+= (predicted == labels).sum()\n",
    "    accuracy = 100 * correct/total\n",
    "    print(\"Iteration: {}. Loss: {}. Accuracy: {}.\".format(epoch, loss.item(), accuracy))\n",
    "torch.save(model.state_dict(),'mnist_quantized.h5')"
   ]
  },
  {
   "cell_type": "markdown",
   "metadata": {},
   "source": [
    "After retraining, we can, just for fun, reconstruct the pruned and quantized weights and plot them as images:"
   ]
  },
  {
   "cell_type": "code",
   "execution_count": 69,
   "metadata": {},
   "outputs": [
    {
     "data": {
      "image/png": "[encoded data removed]",
      "text/plain": [
       "<Figure size 432x288 with 1 Axes>"
      ]
     },
     "metadata": {
      "needs_background": "light"
     },
     "output_type": "display_data"
    }
   ],
   "source": [
    "W_0 = (model_q.mask*model_q.centroids[model_q.labels]).detach().cpu().numpy()\n",
    "plt.imshow(W_0[:,1].reshape((28,28)))\n",
    "plt.show()"
   ]
  },
  {
   "cell_type": "markdown",
   "metadata": {},
   "source": [
    "Certainly a much more parsimonious representation.  The obvious question now becomes:\n",
    "\n",
    "### Q7: How low can you go?  How small can the centroid codebook be before we see a substantial degradation in test set accuracy?\n",
    "number of centroids in codebook:\n",
    "2: up to 94%\n",
    "3: 95%\n",
    "4: 95%\n",
    "8: 95%\n",
    "\n",
    "As you can see, any number of centroids 3 or above lost no significant amount of accuracy over the non-quantized version. Once we hit just two, a small amount of accuracy is lost. This isn't even very significant, though. Implicitly, a codebook length of 1 shouldn't be possible, since that would give everything the same weight.\n",
    "\n",
    "This is an absolutely crazy amount of reduction, considering the weights are taken from an matrix of floats to something that can be represented as a matrix of bools with no major loss in predictive accuracy.\n",
    "\n",
    "### Bonus question: Try establishing the sparsity pattern using a model that's only been trained for a single epoch, then fine tune the pruned model and quantize as normal.  How does this compare to pruning a model that has been fully trained?  "
   ]
  },
  {
   "cell_type": "code",
   "execution_count": null,
   "metadata": {},
   "outputs": [],
   "source": []
  }
 ],
 "metadata": {
  "kernelspec": {
   "display_name": "Python 3",
   "language": "python",
   "name": "python3"
  },
  "language_info": {
   "codemirror_mode": {
    "name": "ipython",
    "version": 3
   },
   "file_extension": ".py",
   "mimetype": "text/x-python",
   "name": "python",
   "nbconvert_exporter": "python",
   "pygments_lexer": "ipython3",
   "version": "3.7.5"
  }
 },
 "nbformat": 4,
 "nbformat_minor": 2
}
